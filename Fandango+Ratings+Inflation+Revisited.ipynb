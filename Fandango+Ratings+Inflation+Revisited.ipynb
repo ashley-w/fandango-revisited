{
 "cells": [
  {
   "cell_type": "markdown",
   "metadata": {},
   "source": [
    "# Fandango Ratings Inflation: Revisited"
   ]
  },
  {
   "cell_type": "markdown",
   "metadata": {},
   "source": [
    "In October 2015, a data journalist named Walt Hickey analyzed movie ratings data and found strong evidence to suggest that Fandango's rating system was biased and dishonest (Fandango is an online movie ratings aggregator). He published his analysis in this article — a great piece of data journalism that's totally worth reading.\n",
    "\n",
    "https://fivethirtyeight.com/features/fandango-movies-ratings/\n",
    "\n",
    "**In this project, I will analyze recent movie ratings in order to determine wther or not Fandango has changed it's rating system since the analysis from Hickey**"
   ]
  },
  {
   "cell_type": "code",
   "execution_count": 40,
   "metadata": {
    "collapsed": true
   },
   "outputs": [],
   "source": [
    "# Importing necessary libraries\n",
    "import pandas as pd\n",
    "import matplotlib.pyplot as plt\n",
    "import numpy as np\n",
    "%matplotlib inline  "
   ]
  },
  {
   "cell_type": "code",
   "execution_count": 3,
   "metadata": {
    "collapsed": true
   },
   "outputs": [],
   "source": [
    "# Importing Hickey's original data and newer data for comparison\n",
    "fandango_comp = pd.read_csv('fandango_score_comparison.csv')\n",
    "new_ratings = pd.read_csv('movie_ratings_16_17.csv')"
   ]
  },
  {
   "cell_type": "code",
   "execution_count": 4,
   "metadata": {
    "collapsed": false
   },
   "outputs": [],
   "source": [
    "# Isolating columns of interest in new dataframes\n",
    "fang_df = fandango_comp[['FILM', 'Fandango_Stars', 'Fandango_Ratingvalue', 'Fandango_votes', 'Fandango_Difference']]\n",
    "newvies_df = new_ratings[['movie', 'year', 'fandango']]"
   ]
  },
  {
   "cell_type": "markdown",
   "metadata": {},
   "source": [
    "The population of interest is all of the films stored on Fandango while our samples are actually the films considered most popular by the original collectors of the data (determined by ratings number in the old set and votes in the new). \n",
    "\n",
    "**The sampling conditions for [Hickey's set](https://github.com/fivethirtyeight/data/tree/master/fandango) were as follows**:\n",
    "- At least 30 fan ratings on Fandango\n",
    "- Tickets sales in 2015\n",
    "\n",
    "**The sampling conditions for the [new set](https://github.com/mircealex/Movie_ratings_2016_17/blob/master/README.md) were as follows**:\n",
    "- Release date of later than 2016.\n",
    "- A 'significant number' of votes.\n",
    "\n",
    "Based on these conditions, we can be certain that the sampling was not random so they are highly unlikely to be representative of the population.  So, I will re-evaluate the goal of my analysis. "
   ]
  },
  {
   "cell_type": "markdown",
   "metadata": {},
   "source": [
    "## So, the samples aren't representative of the population. Now what?"
   ]
  },
  {
   "cell_type": "markdown",
   "metadata": {},
   "source": [
    "I think that this can be remedied by changing the scope of my population from *all* of the films on Fandango to just the popular ones—then and now.\n",
    "\n",
    "**New and improved populations**:\n",
    "1. All Fandango's ratings for popular movies released in 2015.\n",
    "2. All Fandango's ratings for popular movies released in 2016. "
   ]
  },
  {
   "cell_type": "markdown",
   "metadata": {},
   "source": [
    "*But how do we define **'popular'**?*"
   ]
  },
  {
   "cell_type": "markdown",
   "metadata": {},
   "source": [
    "### Do most of the films have more than 30 fan ratings?"
   ]
  },
  {
   "cell_type": "markdown",
   "metadata": {},
   "source": [
    "I will assess the old set by determing whether there are any films with kess than 30 ratings\n",
    "\n"
   ]
  },
  {
   "cell_type": "code",
   "execution_count": 11,
   "metadata": {
    "collapsed": false
   },
   "outputs": [],
   "source": [
    "unpopular_old = fang_df[fang_df['Fandango_votes'] < 30].shape[0]"
   ]
  },
  {
   "cell_type": "markdown",
   "metadata": {},
   "source": [
    "And the same for the new one...\n",
    "\n",
    "*WAIT*\n",
    "\n",
    "The dataset for the newer ratings doesn't actually include the number of votes on each film. So, I have to do something else. The prevailing suggestion is a random sample of ten and then a bit of manual checking on my own. "
   ]
  },
  {
   "cell_type": "code",
   "execution_count": 17,
   "metadata": {
    "collapsed": false
   },
   "outputs": [
    {
     "data": {
      "text/html": [
       "<div>\n",
       "<style scoped>\n",
       "    .dataframe tbody tr th:only-of-type {\n",
       "        vertical-align: middle;\n",
       "    }\n",
       "\n",
       "    .dataframe tbody tr th {\n",
       "        vertical-align: top;\n",
       "    }\n",
       "\n",
       "    .dataframe thead th {\n",
       "        text-align: right;\n",
       "    }\n",
       "</style>\n",
       "<table border=\"1\" class=\"dataframe\">\n",
       "  <thead>\n",
       "    <tr style=\"text-align: right;\">\n",
       "      <th></th>\n",
       "      <th>movie</th>\n",
       "      <th>year</th>\n",
       "      <th>fandango</th>\n",
       "    </tr>\n",
       "  </thead>\n",
       "  <tbody>\n",
       "    <tr>\n",
       "      <th>28</th>\n",
       "      <td>Busanhaeng</td>\n",
       "      <td>2016</td>\n",
       "      <td>4.5</td>\n",
       "    </tr>\n",
       "    <tr>\n",
       "      <th>135</th>\n",
       "      <td>Race</td>\n",
       "      <td>2016</td>\n",
       "      <td>4.5</td>\n",
       "    </tr>\n",
       "    <tr>\n",
       "      <th>40</th>\n",
       "      <td>Deadpool</td>\n",
       "      <td>2016</td>\n",
       "      <td>4.5</td>\n",
       "    </tr>\n",
       "    <tr>\n",
       "      <th>11</th>\n",
       "      <td>Approaching the Unknown</td>\n",
       "      <td>2016</td>\n",
       "      <td>3.5</td>\n",
       "    </tr>\n",
       "    <tr>\n",
       "      <th>55</th>\n",
       "      <td>Finding Dory</td>\n",
       "      <td>2016</td>\n",
       "      <td>4.5</td>\n",
       "    </tr>\n",
       "    <tr>\n",
       "      <th>2</th>\n",
       "      <td>A Cure for Wellness</td>\n",
       "      <td>2016</td>\n",
       "      <td>3.0</td>\n",
       "    </tr>\n",
       "    <tr>\n",
       "      <th>143</th>\n",
       "      <td>Sing</td>\n",
       "      <td>2016</td>\n",
       "      <td>4.5</td>\n",
       "    </tr>\n",
       "    <tr>\n",
       "      <th>34</th>\n",
       "      <td>Central Intelligence</td>\n",
       "      <td>2016</td>\n",
       "      <td>4.5</td>\n",
       "    </tr>\n",
       "    <tr>\n",
       "      <th>101</th>\n",
       "      <td>Loving</td>\n",
       "      <td>2016</td>\n",
       "      <td>4.0</td>\n",
       "    </tr>\n",
       "    <tr>\n",
       "      <th>176</th>\n",
       "      <td>The Founder</td>\n",
       "      <td>2016</td>\n",
       "      <td>4.0</td>\n",
       "    </tr>\n",
       "  </tbody>\n",
       "</table>\n",
       "</div>"
      ],
      "text/plain": [
       "                       movie  year  fandango\n",
       "28                Busanhaeng  2016       4.5\n",
       "135                     Race  2016       4.5\n",
       "40                  Deadpool  2016       4.5\n",
       "11   Approaching the Unknown  2016       3.5\n",
       "55              Finding Dory  2016       4.5\n",
       "2        A Cure for Wellness  2016       3.0\n",
       "143                     Sing  2016       4.5\n",
       "34      Central Intelligence  2016       4.5\n",
       "101                   Loving  2016       4.0\n",
       "176              The Founder  2016       4.0"
      ]
     },
     "execution_count": 17,
     "metadata": {},
     "output_type": "execute_result"
    }
   ],
   "source": [
    "newvies_df[newvies_df['year'] == 2016].sample(10, random_state = 2)"
   ]
  },
  {
   "cell_type": "markdown",
   "metadata": {},
   "source": [
    "**Here are my results**:\n",
    "- Busanhaeng: 277\n",
    "- Race: 2,274\n",
    "- Deadpool: 44,733\n",
    "- Approaching the Unknown: 18\n",
    "- Finding Dory: 22,577\n",
    "- A Cure for Wellness (Hated it!): 958\n",
    "- Sing: 8,458\n",
    "- Central Intelligence: 12,421\n",
    "- Loving: 872\n",
    "- The Founder: 1,033\n",
    "\n",
    "**The verdict**: 90% of the sampled films are 'popular' — good enough for me!"
   ]
  },
  {
   "cell_type": "markdown",
   "metadata": {},
   "source": [
    "This means that our samples include films that are popular enough to represent our new population.\n",
    "\n",
    "As a final step, I'll ensure that the datasets include information only pertaining to years of interest—2015 & 2016. "
   ]
  },
  {
   "cell_type": "code",
   "execution_count": 21,
   "metadata": {
    "collapsed": false
   },
   "outputs": [],
   "source": [
    "fang_2015 = fang_df[fang_df['FILM'].str.contains(\"2015\")]\n",
    "fang_2016 = newvies_df[newvies_df['year'] == 2016]"
   ]
  },
  {
   "cell_type": "markdown",
   "metadata": {},
   "source": [
    "And, with that, we've completed the isolation of our final two datasets. "
   ]
  },
  {
   "cell_type": "markdown",
   "metadata": {},
   "source": [
    "## The Comparison"
   ]
  },
  {
   "cell_type": "markdown",
   "metadata": {},
   "source": [
    "### Kernel Density Plots: Seeing the shape"
   ]
  },
  {
   "cell_type": "markdown",
   "metadata": {},
   "source": [
    "To hop right in, I'm going to get a high-level peek at the relationship between the ratings with a kernel desity plot."
   ]
  },
  {
   "cell_type": "code",
   "execution_count": 53,
   "metadata": {
    "collapsed": false
   },
   "outputs": [
    {
     "data": {
      "image/png": "[encoded data removed]",
      "text/plain": [
       "<matplotlib.figure.Figure at 0x7f859949a208>"
      ]
     },
     "metadata": {},
     "output_type": "display_data"
    }
   ],
   "source": [
    "p1 = fang_2015['Fandango_Ratingvalue'].plot.kde(label='2015')\n",
    "p2 = fang_2016['fandango'].plot.kde(label='2016')\n",
    "plt.legend(loc='upper left')\n",
    "plt.title('Fandango Ratings (2015 vs 2016)')\n",
    "plt.xticks(np.arange(0, 6, step=0.5))\n",
    "plt.xlim(0,5)\n",
    "plt.xlabel('Rating')\n",
    "plt.style.use('fivethirtyeight')"
   ]
  },
  {
   "cell_type": "markdown",
   "metadata": {},
   "source": [
    "After creating the plot, we can see that both are definitely negatively skewed. Which means that the ratings had the tendency to be pretty high both in 2015 and 2016. 2016, however exhibits more granularity in its curve than 2015. \n",
    "\n",
    "This would suggest that, while the skew is the same, ratings may have become more \"balanced\" in the higher ranks after the analysis. In 2016, 4.0 ratings, for example, were far more common but so were 3.5 and 4.5 ratings. \n",
    "\n",
    "\\* *There are more ratings in the 2016 set—191—which is exactly 62 more ratings (nearly a third of the 2015 set which has 129 ratings total)*"
   ]
  },
  {
   "cell_type": "markdown",
   "metadata": {},
   "source": [
    "### Now I will take a look at the frequency distribution tables of the two sets."
   ]
  },
  {
   "cell_type": "code",
   "execution_count": null,
   "metadata": {
    "collapsed": false
   },
   "outputs": [],
   "source": [
    "below_25 = fang_2015[fang_2015['Fandango_Ratingvalue'] <= 2.5]\n",
    "bw_2635 = fang_2015[(fang_2015['Fandango_Ratingvalue'] > 2.5) & (fang_2015['Fandango_Ratingvalue'] <= 3.5)]\n",
    "bw_3604 = fang_2015[(fang_2015['Fandango_Ratingvalue'] > 3.5) & (fang_2015['Fandango_Ratingvalue'] <= 4.0)]\n",
    "bw_4105 = fang_2015[(fang_2015['Fandango_Ratingvalue'] > 4.0) & (fang_2015['Fandango_Ratingvalue'] <= 5.0)]\n"
   ]
  },
  {
   "cell_type": "code",
   "execution_count": 71,
   "metadata": {
    "collapsed": false,
    "scrolled": true
   },
   "outputs": [
    {
     "data": {
      "text/plain": [
       "4.1    13\n",
       "3.9    12\n",
       "4.2    11\n",
       "4.3     9\n",
       "4.5     9\n",
       "3.6     8\n",
       "3.7     8\n",
       "4.4     7\n",
       "3.4     7\n",
       "4.0     7\n",
       "3.5     6\n",
       "3.2     4\n",
       "2.9     4\n",
       "3.3     4\n",
       "3.8     4\n",
       "3.0     4\n",
       "3.1     3\n",
       "4.8     3\n",
       "2.8     2\n",
       "4.6     2\n",
       "2.7     2\n",
       "Name: Fandango_Ratingvalue, dtype: int64"
      ]
     },
     "execution_count": 71,
     "metadata": {},
     "output_type": "execute_result"
    }
   ],
   "source": [
    "fang_2015['Fandango_Ratingvalue'].value_counts()"
   ]
  },
  {
   "cell_type": "code",
   "execution_count": 72,
   "metadata": {
    "collapsed": false
   },
   "outputs": [
    {
     "data": {
      "text/plain": [
       "4.0    77\n",
       "4.5    47\n",
       "3.5    46\n",
       "3.0    14\n",
       "2.5     6\n",
       "5.0     1\n",
       "Name: fandango, dtype: int64"
      ]
     },
     "execution_count": 72,
     "metadata": {},
     "output_type": "execute_result"
    }
   ],
   "source": [
    "fang_2016['fandango'].value_counts()"
   ]
  },
  {
   "cell_type": "code",
   "execution_count": 66,
   "metadata": {
    "collapsed": false
   },
   "outputs": [
    {
     "data": {
      "text/plain": [
       "count    129.000000\n",
       "mean       3.846512\n",
       "std        0.505446\n",
       "min        2.700000\n",
       "25%        3.500000\n",
       "50%        3.900000\n",
       "75%        4.200000\n",
       "max        4.800000\n",
       "Name: Fandango_Ratingvalue, dtype: float64"
      ]
     },
     "execution_count": 66,
     "metadata": {},
     "output_type": "execute_result"
    }
   ],
   "source": [
    "fang_2015['Fandango_Ratingvalue'].describe()"
   ]
  },
  {
   "cell_type": "code",
   "execution_count": 67,
   "metadata": {
    "collapsed": false
   },
   "outputs": [
    {
     "data": {
      "text/plain": [
       "count    191.000000\n",
       "mean       3.887435\n",
       "std        0.509540\n",
       "min        2.500000\n",
       "25%        3.500000\n",
       "50%        4.000000\n",
       "75%        4.250000\n",
       "max        5.000000\n",
       "Name: fandango, dtype: float64"
      ]
     },
     "execution_count": 67,
     "metadata": {},
     "output_type": "execute_result"
    }
   ],
   "source": [
    "fang_2016['fandango'].describe()"
   ]
  },
  {
   "cell_type": "code",
   "execution_count": null,
   "metadata": {
    "collapsed": true
   },
   "outputs": [],
   "source": []
  }
 ],
 "metadata": {
  "kernelspec": {
   "display_name": "Python 3",
   "language": "python",
   "name": "python3"
  },
  "language_info": {
   "codemirror_mode": {
    "name": "ipython",
    "version": 3
   },
   "file_extension": ".py",
   "mimetype": "text/x-python",
   "name": "python",
   "nbconvert_exporter": "python",
   "pygments_lexer": "ipython3",
   "version": "3.4.3"
  }
 },
 "nbformat": 4,
 "nbformat_minor": 2
}
