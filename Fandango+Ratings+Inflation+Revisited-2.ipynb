{
 "cells": [
  {
   "cell_type": "markdown",
   "metadata": {},
   "source": [
    "# Fandango Ratings Inflation: Revisited"
   ]
  },
  {
   "cell_type": "markdown",
   "metadata": {},
   "source": [
    "In October 2015, a data journalist named Walt Hickey analyzed movie ratings data and found strong evidence to suggest that Fandango's rating system was biased and dishonest (Fandango is an online movie ratings aggregator). He published his analysis in this article — a great piece of data journalism that's totally worth reading.\n",
    "\n",
    "https://fivethirtyeight.com/features/fandango-movies-ratings/\n",
    "\n",
    "**In this project, I will analyze recent movie ratings in order to determine wther or not Fandango has changed it's rating system since the analysis from Hickey**"
   ]
  },
  {
   "cell_type": "code",
   "execution_count": 2,
   "metadata": {
    "collapsed": true
   },
   "outputs": [],
   "source": [
    "# Importing necessary libraries\n",
    "import pandas as pd\n",
    "import matplotlib.pyplot as plt\n",
    "import numpy as np\n",
    "%matplotlib inline  \n",
    "import seaborn as sns"
   ]
  },
  {
   "cell_type": "code",
   "execution_count": 3,
   "metadata": {
    "collapsed": true
   },
   "outputs": [],
   "source": [
    "# Importing Hickey's original data and newer data for comparison\n",
    "fandango_comp = pd.read_csv('fandango_score_comparison.csv')\n",
    "new_ratings = pd.read_csv('movie_ratings_16_17.csv')"
   ]
  },
  {
   "cell_type": "code",
   "execution_count": 4,
   "metadata": {
    "collapsed": false
   },
   "outputs": [],
   "source": [
    "# Isolating columns of interest in new dataframes\n",
    "fang_df = fandango_comp[['FILM', 'Fandango_Stars', 'Fandango_Ratingvalue', 'Fandango_votes', 'Fandango_Difference']]\n",
    "newvies_df = new_ratings[['movie', 'year', 'fandango']]"
   ]
  },
  {
   "cell_type": "markdown",
   "metadata": {},
   "source": [
    "The population of interest is all of the films stored on Fandango while our samples are actually the films considered most popular by the original collectors of the data (determined by ratings number in the old set and votes in the new). \n",
    "\n",
    "**The sampling conditions for [Hickey's set](https://github.com/fivethirtyeight/data/tree/master/fandango) were as follows**:\n",
    "- At least 30 fan ratings on Fandango\n",
    "- Tickets sales in 2015\n",
    "\n",
    "**The sampling conditions for the [new set](https://github.com/mircealex/Movie_ratings_2016_17/blob/master/README.md) were as follows**:\n",
    "- Release date of later than 2016.\n",
    "- A 'significant number' of votes.\n",
    "\n",
    "Based on these conditions, we can be certain that the sampling was not random so they are highly unlikely to be representative of the population.  So, I will re-evaluate the goal of my analysis. "
   ]
  },
  {
   "cell_type": "markdown",
   "metadata": {},
   "source": [
    "## So, the samples aren't representative of the population. Now what?"
   ]
  },
  {
   "cell_type": "markdown",
   "metadata": {},
   "source": [
    "I think that this can be remedied by changing the scope of my population from *all* of the films on Fandango to just the popular ones—then and now.\n",
    "\n",
    "**New and improved populations**:\n",
    "1. All Fandango's ratings for popular movies released in 2015.\n",
    "2. All Fandango's ratings for popular movies released in 2016. "
   ]
  },
  {
   "cell_type": "markdown",
   "metadata": {},
   "source": [
    "*But how do we define **'popular'**?*"
   ]
  },
  {
   "cell_type": "markdown",
   "metadata": {},
   "source": [
    "### Do most of the films have more than 30 fan ratings?"
   ]
  },
  {
   "cell_type": "markdown",
   "metadata": {},
   "source": [
    "I will assess the old set by determing whether there are any films with kess than 30 ratings\n",
    "\n"
   ]
  },
  {
   "cell_type": "code",
   "execution_count": 5,
   "metadata": {
    "collapsed": false
   },
   "outputs": [],
   "source": [
    "unpopular_old = fang_df[fang_df['Fandango_votes'] < 30].shape[0]"
   ]
  },
  {
   "cell_type": "markdown",
   "metadata": {},
   "source": [
    "And the same for the new one...\n",
    "\n",
    "*WAIT*\n",
    "\n",
    "The dataset for the newer ratings doesn't actually include the number of votes on each film. So, I have to do something else. The prevailing suggestion is a random sample of ten and then a bit of manual checking on my own. "
   ]
  },
  {
   "cell_type": "code",
   "execution_count": 6,
   "metadata": {
    "collapsed": false
   },
   "outputs": [
    {
     "data": {
      "text/html": [
       "<div>\n",
       "<style scoped>\n",
       "    .dataframe tbody tr th:only-of-type {\n",
       "        vertical-align: middle;\n",
       "    }\n",
       "\n",
       "    .dataframe tbody tr th {\n",
       "        vertical-align: top;\n",
       "    }\n",
       "\n",
       "    .dataframe thead th {\n",
       "        text-align: right;\n",
       "    }\n",
       "</style>\n",
       "<table border=\"1\" class=\"dataframe\">\n",
       "  <thead>\n",
       "    <tr style=\"text-align: right;\">\n",
       "      <th></th>\n",
       "      <th>movie</th>\n",
       "      <th>year</th>\n",
       "      <th>fandango</th>\n",
       "    </tr>\n",
       "  </thead>\n",
       "  <tbody>\n",
       "    <tr>\n",
       "      <th>28</th>\n",
       "      <td>Busanhaeng</td>\n",
       "      <td>2016</td>\n",
       "      <td>4.5</td>\n",
       "    </tr>\n",
       "    <tr>\n",
       "      <th>135</th>\n",
       "      <td>Race</td>\n",
       "      <td>2016</td>\n",
       "      <td>4.5</td>\n",
       "    </tr>\n",
       "    <tr>\n",
       "      <th>40</th>\n",
       "      <td>Deadpool</td>\n",
       "      <td>2016</td>\n",
       "      <td>4.5</td>\n",
       "    </tr>\n",
       "    <tr>\n",
       "      <th>11</th>\n",
       "      <td>Approaching the Unknown</td>\n",
       "      <td>2016</td>\n",
       "      <td>3.5</td>\n",
       "    </tr>\n",
       "    <tr>\n",
       "      <th>55</th>\n",
       "      <td>Finding Dory</td>\n",
       "      <td>2016</td>\n",
       "      <td>4.5</td>\n",
       "    </tr>\n",
       "    <tr>\n",
       "      <th>2</th>\n",
       "      <td>A Cure for Wellness</td>\n",
       "      <td>2016</td>\n",
       "      <td>3.0</td>\n",
       "    </tr>\n",
       "    <tr>\n",
       "      <th>143</th>\n",
       "      <td>Sing</td>\n",
       "      <td>2016</td>\n",
       "      <td>4.5</td>\n",
       "    </tr>\n",
       "    <tr>\n",
       "      <th>34</th>\n",
       "      <td>Central Intelligence</td>\n",
       "      <td>2016</td>\n",
       "      <td>4.5</td>\n",
       "    </tr>\n",
       "    <tr>\n",
       "      <th>101</th>\n",
       "      <td>Loving</td>\n",
       "      <td>2016</td>\n",
       "      <td>4.0</td>\n",
       "    </tr>\n",
       "    <tr>\n",
       "      <th>176</th>\n",
       "      <td>The Founder</td>\n",
       "      <td>2016</td>\n",
       "      <td>4.0</td>\n",
       "    </tr>\n",
       "  </tbody>\n",
       "</table>\n",
       "</div>"
      ],
      "text/plain": [
       "                       movie  year  fandango\n",
       "28                Busanhaeng  2016       4.5\n",
       "135                     Race  2016       4.5\n",
       "40                  Deadpool  2016       4.5\n",
       "11   Approaching the Unknown  2016       3.5\n",
       "55              Finding Dory  2016       4.5\n",
       "2        A Cure for Wellness  2016       3.0\n",
       "143                     Sing  2016       4.5\n",
       "34      Central Intelligence  2016       4.5\n",
       "101                   Loving  2016       4.0\n",
       "176              The Founder  2016       4.0"
      ]
     },
     "execution_count": 6,
     "metadata": {},
     "output_type": "execute_result"
    }
   ],
   "source": [
    "newvies_df[newvies_df['year'] == 2016].sample(10, random_state = 2)"
   ]
  },
  {
   "cell_type": "markdown",
   "metadata": {},
   "source": [
    "**Here are my results**:\n",
    "- Busanhaeng: 277\n",
    "- Race: 2,274\n",
    "- Deadpool: 44,733\n",
    "- Approaching the Unknown: 18\n",
    "- Finding Dory: 22,577\n",
    "- A Cure for Wellness (Hated it!): 958\n",
    "- Sing: 8,458\n",
    "- Central Intelligence: 12,421\n",
    "- Loving: 872\n",
    "- The Founder: 1,033\n",
    "\n",
    "**The verdict**: 90% of the sampled films are 'popular' — good enough for me!"
   ]
  },
  {
   "cell_type": "markdown",
   "metadata": {},
   "source": [
    "This means that our samples include films that are popular enough to represent our new population.\n",
    "\n",
    "As a final step, I'll ensure that the datasets include information only pertaining to years of interest—2015 & 2016. "
   ]
  },
  {
   "cell_type": "code",
   "execution_count": 7,
   "metadata": {
    "collapsed": false
   },
   "outputs": [],
   "source": [
    "fang_2015 = fang_df[fang_df['FILM'].str.contains(\"2015\")]\n",
    "fang_2016 = newvies_df[newvies_df['year'] == 2016]"
   ]
  },
  {
   "cell_type": "markdown",
   "metadata": {},
   "source": [
    "And, with that, we've completed the isolation of our final two datasets. "
   ]
  },
  {
   "cell_type": "markdown",
   "metadata": {},
   "source": [
    "## The Comparison"
   ]
  },
  {
   "cell_type": "markdown",
   "metadata": {},
   "source": [
    "### Kernel Density Plots: Seeing the shape"
   ]
  },
  {
   "cell_type": "markdown",
   "metadata": {},
   "source": [
    "To hop right in, I'm going to get a high-level peek at the relationship between the ratings with a kernel desity plot."
   ]
  },
  {
   "cell_type": "code",
   "execution_count": 8,
   "metadata": {
    "collapsed": false
   },
   "outputs": [
    {
     "data": {
      "image/png": "[encoded data removed]",
      "text/plain": [
       "<matplotlib.figure.Figure at 0x7f6e558e35f8>"
      ]
     },
     "metadata": {},
     "output_type": "display_data"
    }
   ],
   "source": [
    "p1 = fang_2015['Fandango_Stars'].plot.kde(label='2015')\n",
    "p2 = fang_2016['fandango'].plot.kde(label='2016')\n",
    "plt.legend(loc='upper left')\n",
    "plt.title('Fandango Ratings (2015 vs 2016)')\n",
    "plt.xticks(np.arange(0, 6, step=0.5))\n",
    "plt.xlim(0,5)\n",
    "plt.xlabel('Rating')\n",
    "plt.style.use('fivethirtyeight')"
   ]
  },
  {
   "cell_type": "markdown",
   "metadata": {},
   "source": [
    "After creating the plot, we can see that both are definitely negatively skewed. Which means that the ratings had the tendency to be pretty high both in 2015 and 2016. The 2016 curve, however peaks at 4.0 instead of 4.5 (as it does in 2015).\n",
    "\n",
    "This would suggest that, while the skew is the same, ratings may have become more \"balanced\" in the higher ranks after the analysis. In 2016, 4.0 ratings, for example, were far more common but so were 3.5 and 4.5 ratings. \n",
    "\n",
    "\\* *There are more ratings in the 2016 set—191—which is exactly 62 more ratings (nearly a third of the 2015 set which has 129 ratings total)*"
   ]
  },
  {
   "cell_type": "markdown",
   "metadata": {},
   "source": [
    "### Now I will take a look at the frequency distribution tables of the two sets."
   ]
  },
  {
   "cell_type": "code",
   "execution_count": 9,
   "metadata": {
    "collapsed": false,
    "scrolled": true
   },
   "outputs": [
    {
     "data": {
      "text/plain": [
       "3.0     8.527132\n",
       "3.5    17.829457\n",
       "4.0    28.682171\n",
       "4.5    37.984496\n",
       "5.0     6.976744\n",
       "Name: Fandango_Stars, dtype: float64"
      ]
     },
     "execution_count": 9,
     "metadata": {},
     "output_type": "execute_result"
    }
   ],
   "source": [
    "(fang_2015['Fandango_Stars'].value_counts(normalize = True) * 100).sort_index()"
   ]
  },
  {
   "cell_type": "code",
   "execution_count": 10,
   "metadata": {
    "collapsed": false,
    "scrolled": true
   },
   "outputs": [
    {
     "data": {
      "text/plain": [
       "2.5     3.141361\n",
       "3.0     7.329843\n",
       "3.5    24.083770\n",
       "4.0    40.314136\n",
       "4.5    24.607330\n",
       "5.0     0.523560\n",
       "Name: fandango, dtype: float64"
      ]
     },
     "execution_count": 10,
     "metadata": {},
     "output_type": "execute_result"
    }
   ],
   "source": [
    "fang_2016['fandango'].value_counts(normalize = True).sort_index() * 100"
   ]
  },
  {
   "cell_type": "code",
   "execution_count": 11,
   "metadata": {
    "collapsed": false
   },
   "outputs": [
    {
     "data": {
      "text/plain": [
       "3.887434554973822"
      ]
     },
     "execution_count": 11,
     "metadata": {},
     "output_type": "execute_result"
    }
   ],
   "source": [
    "fang_2016['fandango'].mean()"
   ]
  },
  {
   "cell_type": "code",
   "execution_count": 12,
   "metadata": {
    "collapsed": false
   },
   "outputs": [
    {
     "data": {
      "text/plain": [
       "4.0852713178294575"
      ]
     },
     "execution_count": 12,
     "metadata": {},
     "output_type": "execute_result"
    }
   ],
   "source": [
    "fang_2015['Fandango_Stars'].mean()"
   ]
  },
  {
   "cell_type": "markdown",
   "metadata": {},
   "source": [
    "My analysis of the frequency distributions and the means would further support the inferences drawn from the kde plots by showing that a higher concentration of ratings were quite high in 2015. In 2016, there is a larger spread of scores (as low as 2.5) and, while there are many 4.0 ratings, there are no perfect 5.0 ratings. 7% of the ratings in 2015 were perfect 5.0s!"
   ]
  },
  {
   "cell_type": "markdown",
   "metadata": {},
   "source": [
    "### Gaining more clarity using the summary"
   ]
  },
  {
   "cell_type": "markdown",
   "metadata": {},
   "source": [
    "In order to have a better idea of the direction of change between the two years, I'm using grouped bar plot to take a look at mean, median and mode."
   ]
  },
  {
   "cell_type": "code",
   "execution_count": 13,
   "metadata": {
    "collapsed": false
   },
   "outputs": [],
   "source": [
    "mean_2015 = fang_2015['Fandango_Stars'].mean()\n",
    "mode_2015 = fang_2015['Fandango_Stars'].mode()[0]\n",
    "median_2015 = fang_2015['Fandango_Stars'].median()\n",
    "\n",
    "mean_2016 = fang_2016['fandango'].mean()\n",
    "mode_2016 = fang_2016['fandango'].mode()[0]\n",
    "median_2016 = fang_2016['fandango'].median()"
   ]
  },
  {
   "cell_type": "code",
   "execution_count": 14,
   "metadata": {
    "collapsed": true
   },
   "outputs": [],
   "source": [
    "summary = pd.DataFrame()\n",
    "summary['2015'] = [mean_2015, mode_2015, median_2015]\n",
    "summary['2016'] = [mean_2016, mode_2016, median_2016]\n",
    "summary.index = ['mean', 'mode', 'median']"
   ]
  },
  {
   "cell_type": "code",
   "execution_count": 15,
   "metadata": {
    "collapsed": false
   },
   "outputs": [
    {
     "data": {
      "text/html": [
       "<div>\n",
       "<style scoped>\n",
       "    .dataframe tbody tr th:only-of-type {\n",
       "        vertical-align: middle;\n",
       "    }\n",
       "\n",
       "    .dataframe tbody tr th {\n",
       "        vertical-align: top;\n",
       "    }\n",
       "\n",
       "    .dataframe thead th {\n",
       "        text-align: right;\n",
       "    }\n",
       "</style>\n",
       "<table border=\"1\" class=\"dataframe\">\n",
       "  <thead>\n",
       "    <tr style=\"text-align: right;\">\n",
       "      <th></th>\n",
       "      <th>2015</th>\n",
       "      <th>2016</th>\n",
       "    </tr>\n",
       "  </thead>\n",
       "  <tbody>\n",
       "    <tr>\n",
       "      <th>mean</th>\n",
       "      <td>4.085271</td>\n",
       "      <td>3.887435</td>\n",
       "    </tr>\n",
       "    <tr>\n",
       "      <th>mode</th>\n",
       "      <td>4.500000</td>\n",
       "      <td>4.000000</td>\n",
       "    </tr>\n",
       "    <tr>\n",
       "      <th>median</th>\n",
       "      <td>4.000000</td>\n",
       "      <td>4.000000</td>\n",
       "    </tr>\n",
       "  </tbody>\n",
       "</table>\n",
       "</div>"
      ],
      "text/plain": [
       "            2015      2016\n",
       "mean    4.085271  3.887435\n",
       "mode    4.500000  4.000000\n",
       "median  4.000000  4.000000"
      ]
     },
     "execution_count": 15,
     "metadata": {},
     "output_type": "execute_result"
    }
   ],
   "source": [
    "summary"
   ]
  },
  {
   "cell_type": "code",
   "execution_count": 19,
   "metadata": {
    "collapsed": false
   },
   "outputs": [
    {
     "data": {
      "image/png": "[encoded data removed]",
      "text/plain": [
       "<matplotlib.figure.Figure at 0x7f6e5365a748>"
      ]
     },
     "metadata": {},
     "output_type": "display_data"
    }
   ],
   "source": [
    "p3 = summary['2015'].plot.bar(color = '#FFA07A', align = 'center', label = '2015', width = .25)\n",
    "p4 = summary['2016'].plot.bar(color = '#B0E0E6', align = 'edge', label = '2016', width = .25,\n",
    "                         rot = 0, figsize = (8,5))\n",
    "plt.title('Fandango Ratings (2015 vs 2016)')\n",
    "plt.legend(loc='upper right')\n",
    "plt.ylim(0, 5.5)\n",
    "plt.ylabel('Rating')\n",
    "plt.style.use('fivethirtyeight')\n"
   ]
  },
  {
   "cell_type": "markdown",
   "metadata": {},
   "source": [
    "While the median of the two years appears to be even, it's clear that higher ratings were definitely all the rage in 2015. The mean is higher and the mode indicates that the most commonly occurring rating was higher than that of 2016."
   ]
  },
  {
   "cell_type": "markdown",
   "metadata": {},
   "source": [
    "## Conclusion"
   ]
  },
  {
   "cell_type": "markdown",
   "metadata": {},
   "source": [
    "The ratings for popular movies on Fandange in 2016 appear to be more balanced and lower than the pre-analysis popular movie ratings in 2015. Nevertheless, it appears that the tendency on the site is still that of higher ratings. The difference overall seems to be pretty minor. Maybe Fandango hasn't learned their lesson..."
   ]
  }
 ],
 "metadata": {
  "kernelspec": {
   "display_name": "Python 3",
   "language": "python",
   "name": "python3"
  },
  "language_info": {
   "codemirror_mode": {
    "name": "ipython",
    "version": 3
   },
   "file_extension": ".py",
   "mimetype": "text/x-python",
   "name": "python",
   "nbconvert_exporter": "python",
   "pygments_lexer": "ipython3",
   "version": "3.4.3"
  }
 },
 "nbformat": 4,
 "nbformat_minor": 2
}
